{
  "nbformat": 4,
  "nbformat_minor": 0,
  "metadata": {
    "colab": {
      "provenance": [],
      "authorship_tag": "ABX9TyO/TbLMW7VhNeyvi6EPVGWn",
      "include_colab_link": true
    },
    "kernelspec": {
      "name": "python3",
      "display_name": "Python 3"
    },
    "language_info": {
      "name": "python"
    }
  },
  "cells": [
    {
      "cell_type": "markdown",
      "metadata": {
        "id": "view-in-github",
        "colab_type": "text"
      },
      "source": [
        "<a href=\"https://colab.research.google.com/github/zHazyl/ml-from-scratch/blob/main/my_chatwithpdfs_huggingface.ipynb\" target=\"_parent\"><img src=\"https://colab.research.google.com/assets/colab-badge.svg\" alt=\"Open In Colab\"/></a>"
      ]
    },
    {
      "cell_type": "code",
      "execution_count": null,
      "metadata": {
        "id": "ReYsmHKV-mfk"
      },
      "outputs": [],
      "source": [
        "!git clone https://github.com/zHazyl/ml-from-scratch.git"
      ]
    },
    {
      "cell_type": "code",
      "source": [
        "!npm install localtunnel"
      ],
      "metadata": {
        "id": "5jLmtXS4-zMl"
      },
      "execution_count": null,
      "outputs": []
    },
    {
      "cell_type": "code",
      "source": [
        "!pip install -r /content/ml-from-scratch/local_multimodal_ai_chat/requirements.txt"
      ],
      "metadata": {
        "id": "8NP-gYXz_hBk"
      },
      "execution_count": null,
      "outputs": []
    },
    {
      "cell_type": "code",
      "source": [
        "!wget https://huggingface.co/TheBloke/Mistral-7B-Instruct-v0.1-GGUF/resolve/main/mistral-7b-instruct-v0.1.Q3_K_M.gguf?download=true -O /content/ml-from-scratch/local_multimodal_ai_chat/models/mistral-7b-instruct-v0.1.Q3_K_M.gguf\n",
        "!wget https://huggingface.co/TheBloke/Mistral-7B-Instruct-v0.1-GGUF/resolve/main/mistral-7b-instruct-v0.1.Q5_K_M.gguf?download=true -O /content/ml-from-scratch/local_multimodal_ai_chat/models/mistral-7b-instruct-v0.1.Q5_K_M.gguf\n",
        "!mkdir /content/ml-from-scratch/local_multimodal_ai_chat/models/llava/\n",
        "!wget https://huggingface.co/mys/ggml_llava-v1.5-7b/resolve/main/ggml-model-q5_k.gguf?download=true -O /content/ml-from-scratch/local_multimodal_ai_chat/models/llava/ggml-model-q5_k.gguf\n",
        "!wget https://huggingface.co/mys/ggml_llava-v1.5-7b/resolve/main/mmproj-model-f16.gguf?download=true -O /content/ml-from-scratch/local_multimodal_ai_chat/models/llava/mmproj-model-f16.gguf"
      ],
      "metadata": {
        "id": "GiY_kX20-Xvf"
      },
      "execution_count": 4,
      "outputs": []
    },
    {
      "cell_type": "code",
      "source": [
        "! wget -q -O - ipv4.icanhazip.com"
      ],
      "metadata": {
        "id": "FJFOWpviByTK"
      },
      "execution_count": null,
      "outputs": []
    },
    {
      "cell_type": "code",
      "source": [
        "!cd /content/ml-from-scratch/local_multimodal_ai_chat && python database_operations.py"
      ],
      "metadata": {
        "id": "vBeaRRaKDVAS"
      },
      "execution_count": null,
      "outputs": []
    },
    {
      "cell_type": "code",
      "source": [
        "!cd /content/ml-from-scratch/local_multimodal_ai_chat && streamlit run app.py & npx localtunnel --port 8501"
      ],
      "metadata": {
        "id": "uOqzADnK_8KZ"
      },
      "execution_count": null,
      "outputs": []
    },
    {
      "cell_type": "code",
      "source": [],
      "metadata": {
        "id": "wyiMfShjllzL"
      },
      "execution_count": null,
      "outputs": []
    }
  ]
}