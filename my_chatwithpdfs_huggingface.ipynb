{
  "nbformat": 4,
  "nbformat_minor": 0,
  "metadata": {
    "colab": {
      "provenance": [],
      "authorship_tag": "ABX9TyNprsmMyHv57wXVU0cz/zm/",
      "include_colab_link": true
    },
    "kernelspec": {
      "name": "python3",
      "display_name": "Python 3"
    },
    "language_info": {
      "name": "python"
    }
  },
  "cells": [
    {
      "cell_type": "markdown",
      "metadata": {
        "id": "view-in-github",
        "colab_type": "text"
      },
      "source": [
        "<a href=\"https://colab.research.google.com/github/zHazyl/ml-from-scratch/blob/main/my_chatwithpdfs_huggingface.ipynb\" target=\"_parent\"><img src=\"https://colab.research.google.com/assets/colab-badge.svg\" alt=\"Open In Colab\"/></a>"
      ]
    },
    {
      "cell_type": "code",
      "execution_count": null,
      "metadata": {
        "colab": {
          "base_uri": "https://localhost:8080/"
        },
        "id": "ReYsmHKV-mfk",
        "outputId": "32aba558-203d-4b04-c350-3b86014a8b26"
      },
      "outputs": [
        {
          "output_type": "stream",
          "name": "stdout",
          "text": [
            "Cloning into 'local_multimodal_ai_chat'...\n",
            "remote: Enumerating objects: 134, done.\u001b[K\n",
            "remote: Counting objects: 100% (134/134), done.\u001b[K\n",
            "remote: Compressing objects: 100% (91/91), done.\u001b[K\n",
            "remote: Total 134 (delta 78), reused 92 (delta 40), pack-reused 0\u001b[K\n",
            "Receiving objects: 100% (134/134), 4.73 MiB | 26.75 MiB/s, done.\n",
            "Resolving deltas: 100% (78/78), done.\n"
          ]
        }
      ],
      "source": [
        "!git clone https://github.com/zHazyl/ml-from-scratch.git"
      ]
    },
    {
      "cell_type": "code",
      "source": [
        "!npm install localtunnel"
      ],
      "metadata": {
        "colab": {
          "base_uri": "https://localhost:8080/"
        },
        "id": "5jLmtXS4-zMl",
        "outputId": "f69a59e3-d144-4b80-c66d-c10542962f10"
      },
      "execution_count": null,
      "outputs": [
        {
          "output_type": "stream",
          "name": "stdout",
          "text": [
            "\u001b[K\u001b[?25h\u001b[37;40mnpm\u001b[0m \u001b[0m\u001b[30;43mWARN\u001b[0m \u001b[0m\u001b[35msaveError\u001b[0m ENOENT: no such file or directory, open '/content/package.json'\n",
            "\u001b[0m\u001b[37;40mnpm\u001b[0m \u001b[0m\u001b[34;40mnotice\u001b[0m\u001b[35m\u001b[0m created a lockfile as package-lock.json. You should commit this file.\n",
            "\u001b[0m\u001b[37;40mnpm\u001b[0m \u001b[0m\u001b[30;43mWARN\u001b[0m \u001b[0m\u001b[35menoent\u001b[0m ENOENT: no such file or directory, open '/content/package.json'\n",
            "\u001b[0m\u001b[37;40mnpm\u001b[0m \u001b[0m\u001b[30;43mWARN\u001b[0m\u001b[35m\u001b[0m content No description\n",
            "\u001b[0m\u001b[37;40mnpm\u001b[0m \u001b[0m\u001b[30;43mWARN\u001b[0m\u001b[35m\u001b[0m content No repository field.\n",
            "\u001b[0m\u001b[37;40mnpm\u001b[0m \u001b[0m\u001b[30;43mWARN\u001b[0m\u001b[35m\u001b[0m content No README data\n",
            "\u001b[0m\u001b[37;40mnpm\u001b[0m \u001b[0m\u001b[30;43mWARN\u001b[0m\u001b[35m\u001b[0m content No license field.\n",
            "\u001b[0m\n",
            "+ localtunnel@2.0.2\n",
            "added 22 packages from 22 contributors and audited 22 packages in 2.055s\n",
            "\n",
            "3 packages are looking for funding\n",
            "  run `npm fund` for details\n",
            "\n",
            "found 1 \u001b[93mmoderate\u001b[0m severity vulnerability\n",
            "  run `npm audit fix` to fix them, or `npm audit` for details\n",
            "\u001b[K\u001b[?25h"
          ]
        }
      ]
    },
    {
      "cell_type": "code",
      "source": [
        "!pip install -r /content/ml-from-scratch/local_multimodal_ai_chat/requirements.txt"
      ],
      "metadata": {
        "id": "8NP-gYXz_hBk"
      },
      "execution_count": null,
      "outputs": []
    },
    {
      "cell_type": "code",
      "source": [
        "!wget https://huggingface.co/TheBloke/Mistral-7B-Instruct-v0.1-GGUF/resolve/main/mistral-7b-instruct-v0.1.Q3_K_M.gguf?download=true -o /content/ml-from-scratch/local_multimodal_ai_chat/models/mistral-7b-instruct-v0.1.Q3_K_M.gguf\n",
        "!wget https://huggingface.co/TheBloke/Mistral-7B-Instruct-v0.1-GGUF/resolve/main/mistral-7b-instruct-v0.1.Q5_K_M.gguf?download=true -o /content/ml-from-scratch/local_multimodal_ai_chat/models/mistral-7b-instruct-v0.1.Q5_K_M.gguf\n",
        "!mkdir /content/ml-from-scratch/local_multimodal_ai_chat/models/llava/\n",
        "!wget https://huggingface.co/mys/ggml_llava-v1.5-7b/resolve/main/ggml-model-q5_k.gguf?download=true -o /content/ml-from-scratch/local_multimodal_ai_chat/models/llava/ggml-model-q5_k.gguf\n",
        "!wget https://huggingface.co/mys/ggml_llava-v1.5-7b/resolve/main/mmproj-model-f16.gguf?download=true -o /content/ml-from-scratch/local_multimodal_ai_chat/models/llava/mmproj-model-f16.gguf"
      ],
      "metadata": {
        "id": "GiY_kX20-Xvf",
        "outputId": "9435a048-49ae-4f9a-f5d4-1fbd1c8866de",
        "colab": {
          "base_uri": "https://localhost:8080/"
        }
      },
      "execution_count": null,
      "outputs": [
        {
          "output_type": "stream",
          "name": "stdout",
          "text": [
            "--2024-03-10 10:59:08--  https://huggingface.co/TheBloke/Mistral-7B-Instruct-v0.1-GGUF/resolve/main/mistral-7b-instruct-v0.1.Q3_K_M.gguf?download=true\n",
            "Resolving huggingface.co (huggingface.co)... 65.8.178.93, 65.8.178.27, 65.8.178.12, ...\n",
            "Connecting to huggingface.co (huggingface.co)|65.8.178.93|:443... connected.\n",
            "HTTP request sent, awaiting response... 302 Found\n",
            "Location: https://cdn-lfs.huggingface.co/repos/46/12/46124cd8d4788fd8e0879883abfc473f247664b987955cc98a08658f7df6b826/23dea640185f0f752d7338cdb7df309cd28a5b6b3edac6283fe8af7635619f7f?response-content-disposition=attachment%3B+filename*%3DUTF-8%27%27mistral-7b-instruct-v0.1.Q3_K_M.gguf%3B+filename%3D%22mistral-7b-instruct-v0.1.Q3_K_M.gguf%22%3B&Expires=1710327548&Policy=eyJTdGF0ZW1lbnQiOlt7IkNvbmRpdGlvbiI6eyJEYXRlTGVzc1RoYW4iOnsiQVdTOkVwb2NoVGltZSI6MTcxMDMyNzU0OH19LCJSZXNvdXJjZSI6Imh0dHBzOi8vY2RuLWxmcy5odWdnaW5nZmFjZS5jby9yZXBvcy80Ni8xMi80NjEyNGNkOGQ0Nzg4ZmQ4ZTA4Nzk4ODNhYmZjNDczZjI0NzY2NGI5ODc5NTVjYzk4YTA4NjU4ZjdkZjZiODI2LzIzZGVhNjQwMTg1ZjBmNzUyZDczMzhjZGI3ZGYzMDljZDI4YTViNmIzZWRhYzYyODNmZThhZjc2MzU2MTlmN2Y%7EcmVzcG9uc2UtY29udGVudC1kaXNwb3NpdGlvbj0qIn1dfQ__&Signature=TA8TzZFSHi66%7EGSjH1vavTQvoWH2jBsGogL%7EYJddN6xE7Y47-NlPw6yHAWWJIuoy1VEjuIqSoG5zkXXkgetv-xDsefUl7%7EdOMV%7EAwJ2u3gRYL3AmY97Y59QtcabvEwmmu6ZdRn8D2udmmPtmDhF8o0PqkcFJ5pFBh0whw1h2qi%7E2V0zMLvANMOU58jGwkAqx6QZNlHy6f-XPt-3E0gSZNgSyMEQq606YVVqWEfhcFoo0s%7EETGrEBDHjzjBtI2752iNQ14mKk2FrZufa8kBsmavz7P-fbndZSyAQlfZSpxXHbcHisRC%7E7Rm194cppx0iPEUSX0-sVaqRzhjfYk67eBQ__&Key-Pair-Id=KVTP0A1DKRTAX [following]\n",
            "--2024-03-10 10:59:08--  https://cdn-lfs.huggingface.co/repos/46/12/46124cd8d4788fd8e0879883abfc473f247664b987955cc98a08658f7df6b826/23dea640185f0f752d7338cdb7df309cd28a5b6b3edac6283fe8af7635619f7f?response-content-disposition=attachment%3B+filename*%3DUTF-8%27%27mistral-7b-instruct-v0.1.Q3_K_M.gguf%3B+filename%3D%22mistral-7b-instruct-v0.1.Q3_K_M.gguf%22%3B&Expires=1710327548&Policy=eyJTdGF0ZW1lbnQiOlt7IkNvbmRpdGlvbiI6eyJEYXRlTGVzc1RoYW4iOnsiQVdTOkVwb2NoVGltZSI6MTcxMDMyNzU0OH19LCJSZXNvdXJjZSI6Imh0dHBzOi8vY2RuLWxmcy5odWdnaW5nZmFjZS5jby9yZXBvcy80Ni8xMi80NjEyNGNkOGQ0Nzg4ZmQ4ZTA4Nzk4ODNhYmZjNDczZjI0NzY2NGI5ODc5NTVjYzk4YTA4NjU4ZjdkZjZiODI2LzIzZGVhNjQwMTg1ZjBmNzUyZDczMzhjZGI3ZGYzMDljZDI4YTViNmIzZWRhYzYyODNmZThhZjc2MzU2MTlmN2Y%7EcmVzcG9uc2UtY29udGVudC1kaXNwb3NpdGlvbj0qIn1dfQ__&Signature=TA8TzZFSHi66%7EGSjH1vavTQvoWH2jBsGogL%7EYJddN6xE7Y47-NlPw6yHAWWJIuoy1VEjuIqSoG5zkXXkgetv-xDsefUl7%7EdOMV%7EAwJ2u3gRYL3AmY97Y59QtcabvEwmmu6ZdRn8D2udmmPtmDhF8o0PqkcFJ5pFBh0whw1h2qi%7E2V0zMLvANMOU58jGwkAqx6QZNlHy6f-XPt-3E0gSZNgSyMEQq606YVVqWEfhcFoo0s%7EETGrEBDHjzjBtI2752iNQ14mKk2FrZufa8kBsmavz7P-fbndZSyAQlfZSpxXHbcHisRC%7E7Rm194cppx0iPEUSX0-sVaqRzhjfYk67eBQ__&Key-Pair-Id=KVTP0A1DKRTAX\n",
            "Resolving cdn-lfs.huggingface.co (cdn-lfs.huggingface.co)... 108.157.173.105, 108.157.173.44, 108.157.173.21, ...\n",
            "Connecting to cdn-lfs.huggingface.co (cdn-lfs.huggingface.co)|108.157.173.105|:443... connected.\n",
            "HTTP request sent, awaiting response... 200 OK\n",
            "Length: 3518985888 (3.3G) [binary/octet-stream]\n",
            "Saving to: ‘huggingface.co/TheBloke/Mistral-7B-Instruct-v0.1-GGUF/resolve/main/mistral-7b-instruct-v0.1.Q3_K_M.gguf?download=true’\n",
            "\n",
            "huggingface.co/TheB 100%[===================>]   3.28G   107MB/s    in 36s     \n",
            "\n",
            "2024-03-10 10:59:45 (93.0 MB/s) - ‘huggingface.co/TheBloke/Mistral-7B-Instruct-v0.1-GGUF/resolve/main/mistral-7b-instruct-v0.1.Q3_K_M.gguf?download=true’ saved [3518985888/3518985888]\n",
            "\n",
            "/content/local_multimodal_ai_chat/models/: Scheme missing.\n",
            "FINISHED --2024-03-10 10:59:45--\n",
            "Total wall clock time: 37s\n",
            "Downloaded: 1 files, 3.3G in 36s (93.0 MB/s)\n",
            "--2024-03-10 10:59:45--  https://huggingface.co/TheBloke/Mistral-7B-Instruct-v0.1-GGUF/resolve/main/mistral-7b-instruct-v0.1.Q5_K_M.gguf?download=true\n",
            "Resolving huggingface.co (huggingface.co)... 65.8.178.27, 65.8.178.12, 65.8.178.118, ...\n",
            "Connecting to huggingface.co (huggingface.co)|65.8.178.27|:443... connected.\n",
            "HTTP request sent, awaiting response... 302 Found\n",
            "Location: https://cdn-lfs.huggingface.co/repos/46/12/46124cd8d4788fd8e0879883abfc473f247664b987955cc98a08658f7df6b826/c4b062ec7f0f160e848a0e34c4e291b9e39b3fc60df5b201c038e7064dbbdcdc?response-content-disposition=attachment%3B+filename*%3DUTF-8%27%27mistral-7b-instruct-v0.1.Q5_K_M.gguf%3B+filename%3D%22mistral-7b-instruct-v0.1.Q5_K_M.gguf%22%3B&Expires=1710327585&Policy=eyJTdGF0ZW1lbnQiOlt7IkNvbmRpdGlvbiI6eyJEYXRlTGVzc1RoYW4iOnsiQVdTOkVwb2NoVGltZSI6MTcxMDMyNzU4NX19LCJSZXNvdXJjZSI6Imh0dHBzOi8vY2RuLWxmcy5odWdnaW5nZmFjZS5jby9yZXBvcy80Ni8xMi80NjEyNGNkOGQ0Nzg4ZmQ4ZTA4Nzk4ODNhYmZjNDczZjI0NzY2NGI5ODc5NTVjYzk4YTA4NjU4ZjdkZjZiODI2L2M0YjA2MmVjN2YwZjE2MGU4NDhhMGUzNGM0ZTI5MWI5ZTM5YjNmYzYwZGY1YjIwMWMwMzhlNzA2NGRiYmRjZGM%7EcmVzcG9uc2UtY29udGVudC1kaXNwb3NpdGlvbj0qIn1dfQ__&Signature=0jM35Yz5goCQS79go1ZacEN-t4mDQPbRsndq%7EOCzBPOXYHLp8iNQ%7E-yAog8whVG7WgQUD%7Ega30GbyKvFcGS4TvBiY0acC0lsv-0-v-%7Esa0Heej3lC8I-evXoVkUyj2JQoTTvZ2UPZJFPM78qyn062FT1fnTKW7hSx6y5oS-TxUNaUqJMdmLPzt5tov4Uix%7EtTxD9fe%7EXv7lcIL9qZRpjTTH0wDspCh8eQcy5KzWEz4LHmiqsM8w3oQUE9GVLuCsx6tlYqRs8%7EIR%7EHsyVMMHn28nFdqH73lVnEbS1B8L8t-4tznzu3%7EdTQLSS22qn5HljEjEVA0XW2nJ-LrBVk4AGmQ__&Key-Pair-Id=KVTP0A1DKRTAX [following]\n",
            "--2024-03-10 10:59:45--  https://cdn-lfs.huggingface.co/repos/46/12/46124cd8d4788fd8e0879883abfc473f247664b987955cc98a08658f7df6b826/c4b062ec7f0f160e848a0e34c4e291b9e39b3fc60df5b201c038e7064dbbdcdc?response-content-disposition=attachment%3B+filename*%3DUTF-8%27%27mistral-7b-instruct-v0.1.Q5_K_M.gguf%3B+filename%3D%22mistral-7b-instruct-v0.1.Q5_K_M.gguf%22%3B&Expires=1710327585&Policy=eyJTdGF0ZW1lbnQiOlt7IkNvbmRpdGlvbiI6eyJEYXRlTGVzc1RoYW4iOnsiQVdTOkVwb2NoVGltZSI6MTcxMDMyNzU4NX19LCJSZXNvdXJjZSI6Imh0dHBzOi8vY2RuLWxmcy5odWdnaW5nZmFjZS5jby9yZXBvcy80Ni8xMi80NjEyNGNkOGQ0Nzg4ZmQ4ZTA4Nzk4ODNhYmZjNDczZjI0NzY2NGI5ODc5NTVjYzk4YTA4NjU4ZjdkZjZiODI2L2M0YjA2MmVjN2YwZjE2MGU4NDhhMGUzNGM0ZTI5MWI5ZTM5YjNmYzYwZGY1YjIwMWMwMzhlNzA2NGRiYmRjZGM%7EcmVzcG9uc2UtY29udGVudC1kaXNwb3NpdGlvbj0qIn1dfQ__&Signature=0jM35Yz5goCQS79go1ZacEN-t4mDQPbRsndq%7EOCzBPOXYHLp8iNQ%7E-yAog8whVG7WgQUD%7Ega30GbyKvFcGS4TvBiY0acC0lsv-0-v-%7Esa0Heej3lC8I-evXoVkUyj2JQoTTvZ2UPZJFPM78qyn062FT1fnTKW7hSx6y5oS-TxUNaUqJMdmLPzt5tov4Uix%7EtTxD9fe%7EXv7lcIL9qZRpjTTH0wDspCh8eQcy5KzWEz4LHmiqsM8w3oQUE9GVLuCsx6tlYqRs8%7EIR%7EHsyVMMHn28nFdqH73lVnEbS1B8L8t-4tznzu3%7EdTQLSS22qn5HljEjEVA0XW2nJ-LrBVk4AGmQ__&Key-Pair-Id=KVTP0A1DKRTAX\n",
            "Resolving cdn-lfs.huggingface.co (cdn-lfs.huggingface.co)... 108.157.173.21, 108.157.173.84, 108.157.173.105, ...\n",
            "Connecting to cdn-lfs.huggingface.co (cdn-lfs.huggingface.co)|108.157.173.21|:443... connected.\n",
            "HTTP request sent, awaiting response... 200 OK\n",
            "Length: 5131409056 (4.8G) [binary/octet-stream]\n",
            "Saving to: ‘huggingface.co/TheBloke/Mistral-7B-Instruct-v0.1-GGUF/resolve/main/mistral-7b-instruct-v0.1.Q5_K_M.gguf?download=true’\n",
            "\n",
            "huggingface.co/TheB 100%[===================>]   4.78G  61.5MB/s    in 78s     \n",
            "\n",
            "2024-03-10 11:01:03 (63.1 MB/s) - ‘huggingface.co/TheBloke/Mistral-7B-Instruct-v0.1-GGUF/resolve/main/mistral-7b-instruct-v0.1.Q5_K_M.gguf?download=true’ saved [5131409056/5131409056]\n",
            "\n",
            "/content/local_multimodal_ai_chat/models/: Scheme missing.\n",
            "FINISHED --2024-03-10 11:01:03--\n",
            "Total wall clock time: 1m 18s\n",
            "Downloaded: 1 files, 4.8G in 1m 18s (63.1 MB/s)\n",
            "--2024-03-10 11:01:03--  https://huggingface.co/mys/ggml_llava-v1.5-7b/resolve/main/ggml-model-q5_k.gguf?download=true\n",
            "Resolving huggingface.co (huggingface.co)... 65.8.178.118, 65.8.178.27, 65.8.178.93, ...\n",
            "Connecting to huggingface.co (huggingface.co)|65.8.178.118|:443... connected.\n",
            "HTTP request sent, awaiting response... 302 Found\n",
            "Location: https://cdn-lfs.huggingface.co/repos/81/b2/81b26d57d24e58eb04143bd7a247e2e27ed080de5711d806a0829ca57eb00f7c/2ab9be51b7dc737136b38093316a4d3577d1fb96281f1589adac7841f5b81c43?response-content-disposition=attachment%3B+filename*%3DUTF-8%27%27ggml-model-q5_k.gguf%3B+filename%3D%22ggml-model-q5_k.gguf%22%3B&Expires=1710327663&Policy=eyJTdGF0ZW1lbnQiOlt7IkNvbmRpdGlvbiI6eyJEYXRlTGVzc1RoYW4iOnsiQVdTOkVwb2NoVGltZSI6MTcxMDMyNzY2M319LCJSZXNvdXJjZSI6Imh0dHBzOi8vY2RuLWxmcy5odWdnaW5nZmFjZS5jby9yZXBvcy84MS9iMi84MWIyNmQ1N2QyNGU1OGViMDQxNDNiZDdhMjQ3ZTJlMjdlZDA4MGRlNTcxMWQ4MDZhMDgyOWNhNTdlYjAwZjdjLzJhYjliZTUxYjdkYzczNzEzNmIzODA5MzMxNmE0ZDM1NzdkMWZiOTYyODFmMTU4OWFkYWM3ODQxZjViODFjNDM%7EcmVzcG9uc2UtY29udGVudC1kaXNwb3NpdGlvbj0qIn1dfQ__&Signature=BCNMqt1j5Amcqu%7ETY0xTDCAF3HxJBrfJ8Q5ufvugH-95a6rSsNRmr2kvU92hguWV-umYTr%7EnzbhjnecL-RUPQCuVpjkdjTCE62mYwcowFf4s6Y7UU-sf2PnL0DKNrhd-7zo4N%7EKDR3Rjb1D5Td9GFn1sXIktWTCiZPEuOWVvR7bwL0gG-WQri6SYH7F5WQtWDXpfZgKgR81IpOr7XgV-BH1L-X30XIVnslbiqIrD8WRp1CUN-F%7E8oUscAou2ptHRDMVw9QrdzH5HE7-kZUwuVmvqwcBsDyClurM3t7hYJhzDFJKLLZCaN-NYWhYG6%7EEYh1b-6ydsQhY8LEHS%7EDtDLw__&Key-Pair-Id=KVTP0A1DKRTAX [following]\n",
            "--2024-03-10 11:01:03--  https://cdn-lfs.huggingface.co/repos/81/b2/81b26d57d24e58eb04143bd7a247e2e27ed080de5711d806a0829ca57eb00f7c/2ab9be51b7dc737136b38093316a4d3577d1fb96281f1589adac7841f5b81c43?response-content-disposition=attachment%3B+filename*%3DUTF-8%27%27ggml-model-q5_k.gguf%3B+filename%3D%22ggml-model-q5_k.gguf%22%3B&Expires=1710327663&Policy=eyJTdGF0ZW1lbnQiOlt7IkNvbmRpdGlvbiI6eyJEYXRlTGVzc1RoYW4iOnsiQVdTOkVwb2NoVGltZSI6MTcxMDMyNzY2M319LCJSZXNvdXJjZSI6Imh0dHBzOi8vY2RuLWxmcy5odWdnaW5nZmFjZS5jby9yZXBvcy84MS9iMi84MWIyNmQ1N2QyNGU1OGViMDQxNDNiZDdhMjQ3ZTJlMjdlZDA4MGRlNTcxMWQ4MDZhMDgyOWNhNTdlYjAwZjdjLzJhYjliZTUxYjdkYzczNzEzNmIzODA5MzMxNmE0ZDM1NzdkMWZiOTYyODFmMTU4OWFkYWM3ODQxZjViODFjNDM%7EcmVzcG9uc2UtY29udGVudC1kaXNwb3NpdGlvbj0qIn1dfQ__&Signature=BCNMqt1j5Amcqu%7ETY0xTDCAF3HxJBrfJ8Q5ufvugH-95a6rSsNRmr2kvU92hguWV-umYTr%7EnzbhjnecL-RUPQCuVpjkdjTCE62mYwcowFf4s6Y7UU-sf2PnL0DKNrhd-7zo4N%7EKDR3Rjb1D5Td9GFn1sXIktWTCiZPEuOWVvR7bwL0gG-WQri6SYH7F5WQtWDXpfZgKgR81IpOr7XgV-BH1L-X30XIVnslbiqIrD8WRp1CUN-F%7E8oUscAou2ptHRDMVw9QrdzH5HE7-kZUwuVmvqwcBsDyClurM3t7hYJhzDFJKLLZCaN-NYWhYG6%7EEYh1b-6ydsQhY8LEHS%7EDtDLw__&Key-Pair-Id=KVTP0A1DKRTAX\n",
            "Resolving cdn-lfs.huggingface.co (cdn-lfs.huggingface.co)... 108.157.173.105, 108.157.173.44, 108.157.173.21, ...\n",
            "Connecting to cdn-lfs.huggingface.co (cdn-lfs.huggingface.co)|108.157.173.105|:443... connected.\n",
            "HTTP request sent, awaiting response... 200 OK\n",
            "Length: 4783156928 (4.5G) [binary/octet-stream]\n",
            "Saving to: ‘huggingface.co/mys/ggml_llava-v1.5-7b/resolve/main/ggml-model-q5_k.gguf?download=true’\n",
            "\n",
            "huggingface.co/mys/ 100%[===================>]   4.45G  64.3MB/s    in 72s     \n",
            "\n",
            "2024-03-10 11:02:16 (63.3 MB/s) - ‘huggingface.co/mys/ggml_llava-v1.5-7b/resolve/main/ggml-model-q5_k.gguf?download=true’ saved [4783156928/4783156928]\n",
            "\n",
            "/content/local_multimodal_ai_chat/models/llava/: Scheme missing.\n",
            "FINISHED --2024-03-10 11:02:16--\n",
            "Total wall clock time: 1m 13s\n",
            "Downloaded: 1 files, 4.5G in 1m 12s (63.3 MB/s)\n",
            "--2024-03-10 11:02:16--  https://huggingface.co/mys/ggml_llava-v1.5-7b/resolve/main/mmproj-model-f16.gguf?download=true\n",
            "Resolving huggingface.co (huggingface.co)... 65.8.178.93, 65.8.178.12, 65.8.178.118, ...\n",
            "Connecting to huggingface.co (huggingface.co)|65.8.178.93|:443... connected.\n",
            "HTTP request sent, awaiting response... 302 Found\n",
            "Location: https://cdn-lfs.huggingface.co/repos/81/b2/81b26d57d24e58eb04143bd7a247e2e27ed080de5711d806a0829ca57eb00f7c/b7c8ff0f58fca47d28ba92c4443adf8653f3349282cb8d9e6911f22d9b3814fe?response-content-disposition=attachment%3B+filename*%3DUTF-8%27%27mmproj-model-f16.gguf%3B+filename%3D%22mmproj-model-f16.gguf%22%3B&Expires=1710327736&Policy=eyJTdGF0ZW1lbnQiOlt7IkNvbmRpdGlvbiI6eyJEYXRlTGVzc1RoYW4iOnsiQVdTOkVwb2NoVGltZSI6MTcxMDMyNzczNn19LCJSZXNvdXJjZSI6Imh0dHBzOi8vY2RuLWxmcy5odWdnaW5nZmFjZS5jby9yZXBvcy84MS9iMi84MWIyNmQ1N2QyNGU1OGViMDQxNDNiZDdhMjQ3ZTJlMjdlZDA4MGRlNTcxMWQ4MDZhMDgyOWNhNTdlYjAwZjdjL2I3YzhmZjBmNThmY2E0N2QyOGJhOTJjNDQ0M2FkZjg2NTNmMzM0OTI4MmNiOGQ5ZTY5MTFmMjJkOWIzODE0ZmU%7EcmVzcG9uc2UtY29udGVudC1kaXNwb3NpdGlvbj0qIn1dfQ__&Signature=c0Qd8w-hbQXKCMU6BWhGKPdCL39zZMHERSnGCj9jugTnDJUaXmyq5Rg8yudPL1jVNXvxN1tqLQ7k83vCeLGWCe7oe-9NDqi6oyMkFHqY6CQDaDSZFw9isn84Q7qDLDc7cUHgOyRyYi0NFiBWAydSAB3tPhmz3FRypWhNctLyqej5ls2BB9scrnbtutZ-OgYJ7m6QAIINrJhOgnrp8srNJhc96K8y0za4se9RnBwD5YYJoyO7lha8Xvsn79POfQdSQpazCQnp0rRyQc43iGNfq4irrU-9YGrOs2eztcm0EZk%7EcZleEBmFUFt0wV1JaX6Oc1BSwtvNKu9foVQXsRMnSQ__&Key-Pair-Id=KVTP0A1DKRTAX [following]\n",
            "--2024-03-10 11:02:16--  https://cdn-lfs.huggingface.co/repos/81/b2/81b26d57d24e58eb04143bd7a247e2e27ed080de5711d806a0829ca57eb00f7c/b7c8ff0f58fca47d28ba92c4443adf8653f3349282cb8d9e6911f22d9b3814fe?response-content-disposition=attachment%3B+filename*%3DUTF-8%27%27mmproj-model-f16.gguf%3B+filename%3D%22mmproj-model-f16.gguf%22%3B&Expires=1710327736&Policy=eyJTdGF0ZW1lbnQiOlt7IkNvbmRpdGlvbiI6eyJEYXRlTGVzc1RoYW4iOnsiQVdTOkVwb2NoVGltZSI6MTcxMDMyNzczNn19LCJSZXNvdXJjZSI6Imh0dHBzOi8vY2RuLWxmcy5odWdnaW5nZmFjZS5jby9yZXBvcy84MS9iMi84MWIyNmQ1N2QyNGU1OGViMDQxNDNiZDdhMjQ3ZTJlMjdlZDA4MGRlNTcxMWQ4MDZhMDgyOWNhNTdlYjAwZjdjL2I3YzhmZjBmNThmY2E0N2QyOGJhOTJjNDQ0M2FkZjg2NTNmMzM0OTI4MmNiOGQ5ZTY5MTFmMjJkOWIzODE0ZmU%7EcmVzcG9uc2UtY29udGVudC1kaXNwb3NpdGlvbj0qIn1dfQ__&Signature=c0Qd8w-hbQXKCMU6BWhGKPdCL39zZMHERSnGCj9jugTnDJUaXmyq5Rg8yudPL1jVNXvxN1tqLQ7k83vCeLGWCe7oe-9NDqi6oyMkFHqY6CQDaDSZFw9isn84Q7qDLDc7cUHgOyRyYi0NFiBWAydSAB3tPhmz3FRypWhNctLyqej5ls2BB9scrnbtutZ-OgYJ7m6QAIINrJhOgnrp8srNJhc96K8y0za4se9RnBwD5YYJoyO7lha8Xvsn79POfQdSQpazCQnp0rRyQc43iGNfq4irrU-9YGrOs2eztcm0EZk%7EcZleEBmFUFt0wV1JaX6Oc1BSwtvNKu9foVQXsRMnSQ__&Key-Pair-Id=KVTP0A1DKRTAX\n",
            "Resolving cdn-lfs.huggingface.co (cdn-lfs.huggingface.co)... 108.157.173.105, 108.157.173.21, 108.157.173.44, ...\n",
            "Connecting to cdn-lfs.huggingface.co (cdn-lfs.huggingface.co)|108.157.173.105|:443... connected.\n",
            "HTTP request sent, awaiting response... 200 OK\n",
            "Length: 624434336 (596M) [binary/octet-stream]\n",
            "Saving to: ‘huggingface.co/mys/ggml_llava-v1.5-7b/resolve/main/mmproj-model-f16.gguf?download=true’\n",
            "\n",
            "huggingface.co/mys/ 100%[===================>] 595.51M  79.1MB/s    in 10s     \n",
            "\n",
            "2024-03-10 11:02:26 (57.6 MB/s) - ‘huggingface.co/mys/ggml_llava-v1.5-7b/resolve/main/mmproj-model-f16.gguf?download=true’ saved [624434336/624434336]\n",
            "\n",
            "/content/local_multimodal_ai_chat/models/llava/: Scheme missing.\n",
            "FINISHED --2024-03-10 11:02:26--\n",
            "Total wall clock time: 11s\n",
            "Downloaded: 1 files, 596M in 10s (57.6 MB/s)\n"
          ]
        }
      ]
    },
    {
      "cell_type": "code",
      "source": [
        "! wget -q -O - ipv4.icanhazip.com"
      ],
      "metadata": {
        "colab": {
          "base_uri": "https://localhost:8080/"
        },
        "id": "FJFOWpviByTK",
        "outputId": "e8010c25-71e7-476f-e0a1-cdff65da007c"
      },
      "execution_count": null,
      "outputs": [
        {
          "output_type": "stream",
          "name": "stdout",
          "text": [
            "35.227.46.2\n"
          ]
        }
      ]
    },
    {
      "cell_type": "code",
      "source": [
        "!cd /content/ml-from-scratch/local_multimodal_ai_chat && python database_operations.py"
      ],
      "metadata": {
        "id": "vBeaRRaKDVAS"
      },
      "execution_count": null,
      "outputs": []
    },
    {
      "cell_type": "code",
      "source": [
        "!cd /content/ml-from-scratch/local_multimodal_ai_chat && streamlit run app.py & npx localtunnel --port 8501"
      ],
      "metadata": {
        "colab": {
          "base_uri": "https://localhost:8080/"
        },
        "id": "uOqzADnK_8KZ",
        "outputId": "55a45cf7-293d-4ec8-ecf9-b14005520d05"
      },
      "execution_count": null,
      "outputs": [
        {
          "output_type": "stream",
          "name": "stdout",
          "text": [
            "[##................] / fetchMetadata: sill resolveWithNewModule ms@2.1.2 checki\u001b[0m\u001b[K\n",
            "Collecting usage statistics. To deactivate, set browser.gatherUsageStats to False.\n",
            "\u001b[0m\n",
            "\u001b[0m\n",
            "\u001b[34m\u001b[1m  You can now view your Streamlit app in your browser.\u001b[0m\n",
            "\u001b[0m\n",
            "\u001b[34m  Network URL: \u001b[0m\u001b[1mhttp://172.28.0.12:8501\u001b[0m\n",
            "\u001b[34m  External URL: \u001b[0m\u001b[1mhttp://35.227.46.2:8501\u001b[0m\n",
            "\u001b[0m\n",
            "\u001b[K\u001b[?25hnpx: installed 22 in 2.344s\n",
            "your url is: https://thin-buttons-swim.loca.lt\n",
            "2024-03-10 11:26:34.086531: E external/local_xla/xla/stream_executor/cuda/cuda_dnn.cc:9261] Unable to register cuDNN factory: Attempting to register factory for plugin cuDNN when one has already been registered\n",
            "2024-03-10 11:26:34.086614: E external/local_xla/xla/stream_executor/cuda/cuda_fft.cc:607] Unable to register cuFFT factory: Attempting to register factory for plugin cuFFT when one has already been registered\n",
            "2024-03-10 11:26:34.088702: E external/local_xla/xla/stream_executor/cuda/cuda_blas.cc:1515] Unable to register cuBLAS factory: Attempting to register factory for plugin cuBLAS when one has already been registered\n",
            "2024-03-10 11:26:35.725227: W tensorflow/compiler/tf2tensorrt/utils/py_utils.cc:38] TF-TRT Warning: Could not find TensorRT\n",
            ".gitattributes: 100% 1.52k/1.52k [00:00<00:00, 7.13MB/s]\n",
            "1_Pooling/config.json: 100% 191/191 [00:00<00:00, 985kB/s]\n",
            "README.md: 100% 94.6k/94.6k [00:00<00:00, 13.2MB/s]\n",
            "config.json: 100% 779/779 [00:00<00:00, 3.47MB/s]\n",
            "config_sentence_transformers.json: 100% 124/124 [00:00<00:00, 563kB/s]\n",
            "model.safetensors: 100% 1.34G/1.34G [00:16<00:00, 79.4MB/s]\n",
            "model.onnx: 100% 1.34G/1.34G [00:14<00:00, 94.1MB/s]\n",
            "pytorch_model.bin: 100% 1.34G/1.34G [00:13<00:00, 96.1MB/s]\n",
            "sentence_bert_config.json: 100% 52.0/52.0 [00:00<00:00, 174kB/s]\n",
            "special_tokens_map.json: 100% 125/125 [00:00<00:00, 538kB/s]\n",
            "tokenizer.json: 100% 711k/711k [00:00<00:00, 14.1MB/s]\n",
            "tokenizer_config.json: 100% 366/366 [00:00<00:00, 1.79MB/s]\n",
            "vocab.txt: 100% 232k/232k [00:00<00:00, 8.70MB/s]\n",
            "modules.json: 100% 349/349 [00:00<00:00, 1.56MB/s]\n",
            "load INSTRUCTOR_Transformer\n",
            "max_seq_length  512\n",
            "Documents added to db.\n",
            "loading pdf chat chain\n",
            "load INSTRUCTOR_Transformer\n",
            "max_seq_length  512\n",
            "Number of requested results 3 is greater than number of elements in index 1, updating n_results = 1\n",
            "Pdf chat chain is running...\n"
          ]
        }
      ]
    },
    {
      "cell_type": "code",
      "source": [],
      "metadata": {
        "id": "wyiMfShjllzL"
      },
      "execution_count": null,
      "outputs": []
    }
  ]
}