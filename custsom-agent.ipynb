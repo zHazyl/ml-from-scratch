{
  "nbformat": 4,
  "nbformat_minor": 0,
  "metadata": {
    "colab": {
      "provenance": [],
      "authorship_tag": "ABX9TyP9BF2uAve8zXNfYgHrsAV+",
      "include_colab_link": true
    },
    "kernelspec": {
      "name": "python3",
      "display_name": "Python 3"
    },
    "language_info": {
      "name": "python"
    }
  },
  "cells": [
    {
      "cell_type": "markdown",
      "metadata": {
        "id": "view-in-github",
        "colab_type": "text"
      },
      "source": [
        "<a href=\"https://colab.research.google.com/github/zHazyl/ml-from-scratch/blob/main/custsom-agent.ipynb\" target=\"_parent\"><img src=\"https://colab.research.google.com/assets/colab-badge.svg\" alt=\"Open In Colab\"/></a>"
      ]
    },
    {
      "cell_type": "code",
      "source": [
        "!pip install llama-index-agent-openai llama-index-llms-openai llama-index -q"
      ],
      "metadata": {
        "id": "gBRtvAhc7_Zo"
      },
      "execution_count": null,
      "outputs": []
    },
    {
      "cell_type": "code",
      "source": [
        "import json\n",
        "from typing import Sequence, List\n",
        "\n",
        "from llama_index.llms.openai import OpenAI\n",
        "from llama_index.core.llms import ChatMessage\n",
        "from llama_index.core.tools import BaseTool, FunctionTool\n",
        "from llama_index.agent.openai import OpenAIAgent"
      ],
      "metadata": {
        "id": "XvSlW4mZ8F0Q"
      },
      "execution_count": 3,
      "outputs": []
    },
    {
      "cell_type": "code",
      "source": [
        "from google.colab import userdata\n",
        "import os\n",
        "\n",
        "os.environ['OPENAI_API_KEY'] = userdata.get('OPENAI_API_KEY')"
      ],
      "metadata": {
        "id": "g5dmRfh_K5l8"
      },
      "execution_count": 4,
      "outputs": []
    },
    {
      "cell_type": "code",
      "source": [
        "def add(a: int, b:int) -> int:\n",
        "  \"\"\"Add two integers and returns the result integer\"\"\"\n",
        "  return a + b\n",
        "\n",
        "add_tool = FunctionTool.from_defaults(fn=add)\n",
        "\n",
        "def useless_tool() -> int:\n",
        "  \"\"\"This is a useless tool.\"\"\"\n",
        "  return \"This is a useless output\"\n",
        "\n",
        "useless_tool = FunctionTool.from_defaults(fn=useless_tool)"
      ],
      "metadata": {
        "id": "Pw7SISdYKRC5"
      },
      "execution_count": 5,
      "outputs": []
    },
    {
      "cell_type": "code",
      "source": [
        "llm = OpenAI(model='gpt-3.5-turbo-0613')\n",
        "agent = OpenAIAgent.from_tools([useless_tool, add_tool], llm=llm, verbose=True)"
      ],
      "metadata": {
        "id": "-BGAAOrzK27e"
      },
      "execution_count": 6,
      "outputs": []
    },
    {
      "cell_type": "code",
      "source": [
        "response = agent.chat(\n",
        "    \"What is 5 + 2\", tool_choice=\"auto\"\n",
        ") # note function_call param is deprecated use tool_choice instead"
      ],
      "metadata": {
        "id": "MtF7PAO8zBoh",
        "outputId": "c790dea3-a286-4713-b3e0-c0815df430db",
        "colab": {
          "base_uri": "https://localhost:8080/"
        }
      },
      "execution_count": 7,
      "outputs": [
        {
          "output_type": "stream",
          "name": "stdout",
          "text": [
            "Added user message to memory: What is 5 + 2\n",
            "=== Calling Function ===\n",
            "Calling function: add with args: {\n",
            "  \"a\": 5,\n",
            "  \"b\": 2\n",
            "}\n",
            "Got output: 7\n",
            "========================\n",
            "\n"
          ]
        }
      ]
    },
    {
      "cell_type": "code",
      "source": [
        "response = agent.chat(\"What is 5 * 2?\", tool_choice=\"useless_tool\")"
      ],
      "metadata": {
        "id": "i678WT5LzeeR",
        "outputId": "2cb526b6-8cbe-4055-c37d-f8cc1cd11e6e",
        "colab": {
          "base_uri": "https://localhost:8080/"
        }
      },
      "execution_count": 8,
      "outputs": [
        {
          "output_type": "stream",
          "name": "stdout",
          "text": [
            "Added user message to memory: What is 5 * 2?\n",
            "=== Calling Function ===\n",
            "Calling function: useless_tool with args: {}\n",
            "Got output: This is a useless output\n",
            "========================\n",
            "\n",
            "=== Calling Function ===\n",
            "Calling function: add with args: {\n",
            "  \"a\": 5,\n",
            "  \"b\": 2\n",
            "}\n",
            "Got output: 7\n",
            "========================\n",
            "\n"
          ]
        }
      ]
    },
    {
      "cell_type": "code",
      "source": [
        "print(response)"
      ],
      "metadata": {
        "id": "vGNgvJI0zo1O",
        "outputId": "7534094a-d3b5-4d14-b79a-ed6069b96f07",
        "colab": {
          "base_uri": "https://localhost:8080/"
        }
      },
      "execution_count": 9,
      "outputs": [
        {
          "output_type": "stream",
          "name": "stdout",
          "text": [
            "The product of 5 and 2 is 10.\n"
          ]
        }
      ]
    },
    {
      "cell_type": "code",
      "source": [
        "response = agent.chat(\"What is 5 * 2\", tool_choice=\"none\")"
      ],
      "metadata": {
        "id": "pAoxRobkzqGe",
        "outputId": "bd39f7a3-6354-4b70-ecec-38aaf42d5341",
        "colab": {
          "base_uri": "https://localhost:8080/"
        }
      },
      "execution_count": 10,
      "outputs": [
        {
          "output_type": "stream",
          "name": "stdout",
          "text": [
            "Added user message to memory: What is 5 * 2\n"
          ]
        }
      ]
    },
    {
      "cell_type": "code",
      "source": [
        "print(response)"
      ],
      "metadata": {
        "id": "lyJIb3qLzxow",
        "outputId": "22211781-3ec5-4bc8-c224-b15b662c0a7f",
        "colab": {
          "base_uri": "https://localhost:8080/"
        }
      },
      "execution_count": 11,
      "outputs": [
        {
          "output_type": "stream",
          "name": "stdout",
          "text": [
            "The product of 5 and 2 is 10.\n"
          ]
        }
      ]
    },
    {
      "cell_type": "code",
      "source": [
        "%pip install llama-index-readers-wikipedia"
      ],
      "metadata": {
        "id": "QDTXFgJNzyc1"
      },
      "execution_count": null,
      "outputs": []
    },
    {
      "cell_type": "code",
      "source": [
        "from llama_index.core.agent import (\n",
        "    CustomSimpleAgentWorker,\n",
        "    Task,\n",
        "    AgentChatResponse\n",
        ")\n",
        "from typing import Dict, Any, List, Tuple, Optional\n",
        "from llama_index.core.tools import BaseTool, QueryEngineTool\n",
        "from llama_index.core.program import LLMTextCompletionProgram\n",
        "from llama_index.core.output_parsers import PydanticOutputParser\n",
        "from llama_index.core.query_engine import RouterQueryEngine\n",
        "from llama_index.core import ChatPromptTemplate, PromptTemplate\n",
        "from llama_index.core.selectors import PydanticSingleSelector\n",
        "from llama_index.core.bridge.pydantic import Field, BaseModel"
      ],
      "metadata": {
        "id": "JM0XOkWt4IV_"
      },
      "execution_count": 18,
      "outputs": []
    },
    {
      "cell_type": "code",
      "source": [
        "from llama_index.core.llms import ChatMessage, MessageRole\n",
        "\n",
        "DEFAULT_PROMPT_STR = \"\"\"\n",
        "Given previous question/response pairs, please determine if an error has occured in the response, and suggest\\\n",
        " a modified question that will not trigger the error.\n",
        "\n",
        "Examples of modified questions:\n",
        "- The question itself is modified to elicit a non-erroneous response\n",
        "- The question is augmented with context that will help the downstream system better answer the queston.\n",
        "- The question is augmented with examples of negative response, or other negative questions.\n",
        "\n",
        "An error means that either an exception has triggered, or the response is completely irrelevant to the question.\n",
        "\n",
        "Please return the evaluation of the response in the following JSON format\n",
        "\"\"\"\n",
        "\n",
        "def get_chat_prompt_template(\n",
        "    system_prompt: str, current_reasoning: Tuple[str, str]\n",
        ") -> ChatPromptTemplate:\n",
        "  system_msg = ChatMessage(role=MessageRole.SYSTEM, content=system_prompt)\n",
        "  messages = [system_msg]\n",
        "  for raw_msg in current_reasoning:\n",
        "    if raw_msg[0] == \"user\":\n",
        "      messages.append(\n",
        "          ChatMessage(role=MessageRole.USER, content=raw_msg[1])\n",
        "      )\n",
        "    else:\n",
        "      messages.append(\n",
        "          ChatMessage(role=MessageRole.ASSISTANT, content=raw_msg[1])\n",
        "      )\n",
        "    return ChatPromptTemplate(message_templates=messages)\n",
        "\n",
        "class ResponseEval(BaseModel):\n",
        "  \"\"\"Evaluation of whether the response has an error.\"\"\"\n",
        "\n",
        "  has_error: bool = Field(\n",
        "      ..., description=\"Whether the response has an error.\"\n",
        "  )\n",
        "  new_question: str = Field(..., description=\"The suggested new question\")\n",
        "  explanation: str = Field(\n",
        "      ...,\n",
        "      description=(\n",
        "          \"The explanation for the error as well as for the question.\"\n",
        "          \"Can include the direct stack trace as well\"\n",
        "      )\n",
        "  )"
      ],
      "metadata": {
        "id": "BP0DiKVV2Fs2"
      },
      "execution_count": 17,
      "outputs": []
    },
    {
      "cell_type": "code",
      "source": [
        "from llama_index.core.bridge.pydantic import PrivateAttr\n",
        "\n",
        "class RetryAgentWorker(CustomSimpleAgentWorker):\n",
        "  \"\"\"Agent worker that adds a retry layer on top of a router.\n",
        "  Continues iterating until there's no errors / task is done.\n",
        "  \"\"\"\n",
        "\n",
        "  prompt_str: str = Field(default=DEFAULT_PROMPT_STR)\n",
        "  max_iterations: int = Field(default=10)\n",
        "  _router_query_engine: RouterQueryEngine = PrivateAttr()\n",
        "\n",
        "  def __init__(self, tools: List[BaseTool], **kwargs: Any) -> None:\n",
        "    \"\"\"Init params.\"\"\"\n",
        "    # validate that all tools are query engine tools\n",
        "    for tool in tools:\n",
        "      if not isinstance(tool, QueryEngineTool):\n",
        "        raise ValueError(\n",
        "            f\"Tool {tool.metadata.name} is not a query engine tool.\"\n",
        "        )\n",
        "    self._router_query_engine = RouterQueryEngine(\n",
        "        selector=PydanticSingleSelector.from_defaults(),\n",
        "        query_engine_tools=tools,\n",
        "        verbose=kwargs.get(\"verbose\", False),\n",
        "    )\n",
        "    super().__init__(\n",
        "        tools=tools,\n",
        "        **kwargs,\n",
        "    )\n",
        "\n",
        "  def _initialize_state(self, task: Task, **kwargs: Any) -> Dict[str, Any]:\n",
        "    \"\"\"Initialize state\"\"\"\n",
        "    return {\"count\": 0, \"current_reasoning\": []}\n",
        "\n",
        "  def _run_step(\n",
        "      self, state: Dict[str, Any], task: Task, input: Optional[str] = None\n",
        "  ) -> Tuple[AgentChatResponse, bool]:\n",
        "    \"\"\"Run step.\n",
        "    Returns:\n",
        "      Tuple of (agent_response, is_done)\n",
        "\n",
        "    \"\"\"\n",
        "    if \"new_input\" not in state:\n",
        "      new_input = task.input\n",
        "    else:\n",
        "      new_input = state[\"new_input\"]\n",
        "\n",
        "    # first run router query engine\n",
        "    response = self._router_query_engine.query(new_input)\n",
        "\n",
        "    # append to current reasoning\n",
        "    state['current_reasoning'].extend(\n",
        "        [(\"user\", new_input), (\"assistant_reasoning\")]\n",
        "    )\n",
        "\n",
        "    # Then, check for errors\n",
        "    # dynamically create pydantic program for structured output extraction based on template\n",
        "    chat_prompt_tmpl = get_chat_prompt_template(\n",
        "        self.prompt_str, state['current_reasoning']\n",
        "    )\n",
        "    llm_program = LLMTextCompletionProgram.from_defaults(\n",
        "        output_parser=PydanticOutputParser(output_cls=ResponseEval),\n",
        "        prompt=chat_prompt_tmpl,\n",
        "        llm=self.llm,\n",
        "    )\n",
        "    # run program, look at the result\n",
        "    response_eval = llm_program(\n",
        "        query_str=new_input, response_str=str(response)\n",
        "    )\n",
        "    if not response_eval.has_error:\n",
        "      is_done = True\n",
        "    else:\n",
        "      is_done = False\n",
        "    state[\"new_input\"] = response_eval.new_question\n",
        "\n",
        "    if self.verbose:\n",
        "      print(f\"> Question: {new_input}\")\n",
        "      print(f\"> Response: {response}\")\n",
        "      print(f\"> Response eval: {response_eval.dict()}\")\n",
        "\n",
        "    # return response\n",
        "    return AgentChatResponse(response=str(response)), is_done\n",
        "\n",
        "  def _finalize_task(self, state: Dict[str, Any], **kwargs) -> None:\n",
        "    \"\"\"Finalize task.\"\"\"\n",
        "    # nothing to finalize here\n",
        "    # this is usually if you want to modify any sort of\n",
        "    # internal state beyond what is set in '_initialize_state'\n",
        "    pass"
      ],
      "metadata": {
        "id": "BJg8450x7TtO"
      },
      "execution_count": 67,
      "outputs": []
    },
    {
      "cell_type": "code",
      "source": [
        "from llama_index.core.tools import QueryEngineTool"
      ],
      "metadata": {
        "id": "yeogD19rBGZl"
      },
      "execution_count": 23,
      "outputs": []
    },
    {
      "cell_type": "code",
      "source": [
        "from sqlalchemy import (\n",
        "    create_engine,\n",
        "    MetaData,\n",
        "    Table,\n",
        "    Column,\n",
        "    String,\n",
        "    Integer,\n",
        "    select,\n",
        "    column\n",
        ")\n",
        "from llama_index.core import SQLDatabase\n",
        "\n",
        "engine = create_engine(\"sqlite:///:memory\", future=True)\n",
        "metadata_obj = MetaData()\n",
        "#crate city SQL table\n",
        "table_name = 'city_stats'\n",
        "city_stats_table = Table(\n",
        "    table_name,\n",
        "    metadata_obj,\n",
        "    Column(\"city_name\", String(16), primary_key=True),\n",
        "    Column(\"population\", Integer),\n",
        "    Column(\"country\", String(16), nullable=False),\n",
        ")\n",
        "\n",
        "metadata_obj.create_all(engine)"
      ],
      "metadata": {
        "id": "FbkPcBKnBK1m"
      },
      "execution_count": 51,
      "outputs": []
    },
    {
      "cell_type": "code",
      "source": [
        "from sqlalchemy import insert\n",
        "\n",
        "rows = [\n",
        "    {\"city_name\": \"Toronto\", \"population\": 2930000, \"country\": \"Canada\"},\n",
        "    {\"city_name\": \"Tokyo\", \"population\": 13960000, \"country\": \"Japan\"},\n",
        "    {\"city_name\": \"Berlin\", \"population\": 3645000, \"country\": \"Germany\"},\n",
        "]\n",
        "\n",
        "for row in rows:\n",
        "  stmt = insert(city_stats_table).values(**row)\n",
        "  with engine.begin() as connection:\n",
        "    cursor = connection.execute(stmt)"
      ],
      "metadata": {
        "id": "qsKlfif9CU-0"
      },
      "execution_count": null,
      "outputs": []
    },
    {
      "cell_type": "code",
      "source": [
        "from llama_index.core.query_engine import NLSQLTableQueryEngine\n",
        "\n",
        "sql_database = SQLDatabase(engine, include_tables=[\"city_stats\"])\n",
        "sql_query_engine = NLSQLTableQueryEngine(\n",
        "    sql_database=sql_database, tables=[\"city_stats\"], verbose=True\n",
        ")\n",
        "sql_tool = QueryEngineTool.from_defaults(\n",
        "    query_engine=sql_query_engine,\n",
        "    description=(\n",
        "        \"Useful for translating a natural language query into a SQL query over\"\n",
        "        \" a table containing: city_stats, containing the population/country of\"\n",
        "        \" each city\"\n",
        "    ),\n",
        ")"
      ],
      "metadata": {
        "id": "rDw6cHOuCrFG"
      },
      "execution_count": 62,
      "outputs": []
    },
    {
      "cell_type": "code",
      "source": [
        "from llama_index.readers.wikipedia import WikipediaReader\n",
        "from llama_index.core import VectorStoreIndex"
      ],
      "metadata": {
        "id": "nHd13oMoDilJ"
      },
      "execution_count": 63,
      "outputs": []
    },
    {
      "cell_type": "code",
      "source": [
        "%pip install wikipedia"
      ],
      "metadata": {
        "id": "wRsyRebAEHeJ"
      },
      "execution_count": null,
      "outputs": []
    },
    {
      "cell_type": "code",
      "source": [
        "cities = [\"Toronto\", \"Berlin\", \"Tokyo\"]\n",
        "wiki_docs = WikipediaReader().load_data(pages=cities)"
      ],
      "metadata": {
        "id": "no6CSFgUDtwY"
      },
      "execution_count": 56,
      "outputs": []
    },
    {
      "cell_type": "code",
      "source": [
        "# build a separate vector index per city\n",
        "# You could also choose to define a single vector index across all docs, and annotate each chunk by metadata\n",
        "vector_tools = []\n",
        "for city, wiki_doc in zip(cities, wiki_docs):\n",
        "  vector_index = VectorStoreIndex.from_documents([wiki_doc])\n",
        "  vector_query_engine = vector_index.as_query_engine()\n",
        "  vector_tool = QueryEngineTool.from_defaults(\n",
        "      query_engine=vector_query_engine,\n",
        "      description=f\"Useful for answer semantic questions about {city}\",\n",
        "  )\n",
        "  vector_tools.append(vector_tool)"
      ],
      "metadata": {
        "id": "vNZfIRRfD3gI"
      },
      "execution_count": 64,
      "outputs": []
    },
    {
      "cell_type": "code",
      "source": [
        "from llama_index.core.agent import AgentRunner\n",
        "from llama_index.llms.openai import OpenAI"
      ],
      "metadata": {
        "id": "XknIJjzPFQ2Z"
      },
      "execution_count": 58,
      "outputs": []
    },
    {
      "cell_type": "code",
      "source": [
        "llm = OpenAI(model=\"gpt-3.5-turbo\")\n",
        "callback_manager = llm.callback_manager\n",
        "\n",
        "query_engine_tools = [sql_tool] + vector_tools\n",
        "agent_worker = RetryAgentWorker.from_tools(\n",
        "    query_engine_tools,\n",
        "    llm=llm,\n",
        "    verbose=True,\n",
        "    callback_manager=callback_manager\n",
        ")\n",
        "agent = AgentRunner(agent_worker, callback_manager=callback_manager)"
      ],
      "metadata": {
        "id": "i1An1cKwFcd8"
      },
      "execution_count": 68,
      "outputs": []
    },
    {
      "cell_type": "code",
      "source": [
        "response = agent.chat(\"Which countries are each city from?\")\n",
        "print(str(response))\n"
      ],
      "metadata": {
        "id": "uwPVsXlFGA_i",
        "outputId": "83ae9bd2-455f-45b1-abfa-34f7755997c4",
        "colab": {
          "base_uri": "https://localhost:8080/"
        }
      },
      "execution_count": null,
      "outputs": [
        {
          "output_type": "stream",
          "name": "stdout",
          "text": [
            "\u001b[1;3;38;5;200mSelecting query engine 0: The choice is relevant because it involves translating a natural language query into a SQL query over a table containing city_stats, which likely includes information about the country of each city..\n",
            "\u001b[0m> Question: Which countries are each city from?\n",
            "> Response: Toronto is from Canada, Berlin is from Germany, and Tokyo is from Japan.\n",
            "> Response eval: {'has_error': True, 'new_question': 'Which countries are Paris, London, and New York City from?', 'explanation': 'The response is irrelevant because the question was asking about the countries for each city, but the response did not provide any information.'}\n",
            "\u001b[1;3;38;5;200mSelecting query engine 0: The choice is useful for translating a natural language query into a SQL query over a table containing city_stats, which includes the population/country of each city. This choice can help identify the countries of Paris, London, and New York City based on the city_stats table..\n",
            "\u001b[0m> Question: Which countries are Paris, London, and New York City from?\n",
            "> Response: The query did not return any results. However, we know that Paris is in France, London is in the United Kingdom, and New York City is in the United States.\n",
            "> Response eval: {'has_error': True, 'new_question': 'Which countries are the following cities from?', 'explanation': 'The response is irrelevant to the question as it does not specify any cities. By asking for specific cities, we can get a more relevant response.'}\n"
          ]
        }
      ]
    },
    {
      "cell_type": "code",
      "source": [],
      "metadata": {
        "id": "JHNu4ByiGdsO"
      },
      "execution_count": null,
      "outputs": []
    }
  ]
}