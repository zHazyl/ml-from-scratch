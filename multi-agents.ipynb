{
  "nbformat": 4,
  "nbformat_minor": 0,
  "metadata": {
    "colab": {
      "provenance": [],
      "authorship_tag": "ABX9TyMUp6q+rqF6TKVfpTB/yVVu",
      "include_colab_link": true
    },
    "kernelspec": {
      "name": "python3",
      "display_name": "Python 3"
    },
    "language_info": {
      "name": "python"
    }
  },
  "cells": [
    {
      "cell_type": "markdown",
      "metadata": {
        "id": "view-in-github",
        "colab_type": "text"
      },
      "source": [
        "<a href=\"https://colab.research.google.com/github/zHazyl/ml-from-scratch/blob/main/multi-agents.ipynb\" target=\"_parent\"><img src=\"https://colab.research.google.com/assets/colab-badge.svg\" alt=\"Open In Colab\"/></a>"
      ]
    },
    {
      "cell_type": "code",
      "source": [
        "from langchain.chat_models import ChatOpenAI\n",
        "from google.colab import userdata\n",
        "import os\n",
        "\n",
        "os.environ['OPENAI_API_KEY'] = userdata.get('OPENAI_API_KEY')\n",
        "os.environ['GOOGLE_API_KEY'] = userdata.get('GOOGLE_API_KEY')\n",
        "\n",
        "llm = ChatOpenAI()"
      ],
      "metadata": {
        "id": "Y5hjPrXcozbE"
      },
      "execution_count": 34,
      "outputs": []
    },
    {
      "cell_type": "code",
      "source": [
        "!pip install langchain-google-genai"
      ],
      "metadata": {
        "id": "p1dpwjyQzbYr"
      },
      "execution_count": null,
      "outputs": []
    },
    {
      "cell_type": "code",
      "source": [
        "!pip install pypdf"
      ],
      "metadata": {
        "id": "AFPdDWuL1hq-",
        "outputId": "46395923-b349-4968-ddd7-81fb52421e51",
        "colab": {
          "base_uri": "https://localhost:8080/"
        }
      },
      "execution_count": 30,
      "outputs": [
        {
          "output_type": "stream",
          "name": "stdout",
          "text": [
            "Collecting pypdf\n",
            "  Downloading pypdf-4.1.0-py3-none-any.whl (286 kB)\n",
            "\u001b[?25l     \u001b[90m━━━━━━━━━━━━━━━━━━━━━━━━━━━━━━━━━━━━━━━━\u001b[0m \u001b[32m0.0/286.1 kB\u001b[0m \u001b[31m?\u001b[0m eta \u001b[36m-:--:--\u001b[0m\r\u001b[2K     \u001b[91m━━━━━━━━━━━━━━━\u001b[0m\u001b[91m╸\u001b[0m\u001b[90m━━━━━━━━━━━━━━━━━━━━━━━━\u001b[0m \u001b[32m112.6/286.1 kB\u001b[0m \u001b[31m3.2 MB/s\u001b[0m eta \u001b[36m0:00:01\u001b[0m\r\u001b[2K     \u001b[90m━━━━━━━━━━━━━━━━━━━━━━━━━━━━━━━━━━━━━━━━\u001b[0m \u001b[32m286.1/286.1 kB\u001b[0m \u001b[31m4.8 MB/s\u001b[0m eta \u001b[36m0:00:00\u001b[0m\n",
            "\u001b[?25hInstalling collected packages: pypdf\n",
            "Successfully installed pypdf-4.1.0\n"
          ]
        }
      ]
    },
    {
      "cell_type": "code",
      "source": [
        "from langchain.vectorstores import Chroma\n",
        "from langchain_google_genai import GoogleGenerativeAIEmbeddings\n",
        "\n",
        "embeddings = GoogleGenerativeAIEmbeddings(model=\"models/embedding-001\")\n",
        "\n",
        "vector_store = Chroma(\n",
        "    persist_directory=\"emb\",\n",
        "    embedding_function=embeddings\n",
        ")\n",
        "\n",
        "def build_retriever(k=1):\n",
        "    return vector_store.as_retriever(\n",
        "        k=k\n",
        "    )"
      ],
      "metadata": {
        "id": "ZbEEVwMNzuVY"
      },
      "execution_count": 24,
      "outputs": []
    },
    {
      "cell_type": "code",
      "source": [
        "from langchain.document_loaders import PyPDFLoader\n",
        "from langchain.text_splitter import RecursiveCharacterTextSplitter\n",
        "text_splitter = RecursiveCharacterTextSplitter(\n",
        "    chunk_size=500,\n",
        "    chunk_overlap=100\n",
        ")\n",
        "\n",
        "loader = PyPDFLoader(\"/content/spice.pdf\")\n",
        "docs = loader.load_and_split(text_splitter)\n",
        "\n",
        "vector_store.add_documents(docs)"
      ],
      "metadata": {
        "id": "pihMfpkK1RTB"
      },
      "execution_count": null,
      "outputs": []
    },
    {
      "cell_type": "code",
      "source": [
        "retriever = build_retriever()"
      ],
      "metadata": {
        "id": "ZxnKw3dv0Mye"
      },
      "execution_count": 25,
      "outputs": []
    },
    {
      "cell_type": "code",
      "source": [
        "input = \"Which countries produce spice most?\"\n",
        "questions = llm.invoke(f\"\"\"\n",
        "You're a good assistant that support me ask questions with different perspective to answer my question better.\n",
        "For example:\n",
        "\n",
        "Question: How can I open a company?\n",
        "Answer: Which laws you need to know?++What skills you need to prepare?++Which procedure you need to make?\n",
        "\n",
        "Question: How can I make udon?\n",
        "Answer: What are ingredients to make udon?++Where to find ingredients to make udon?++What recipe to make udon?\n",
        "=========\n",
        "Question: {input}\n",
        "Answer:\n",
        "\"\"\").content.split('++')\n"
      ],
      "metadata": {
        "id": "1kzzIvlYpnrU"
      },
      "execution_count": 37,
      "outputs": []
    },
    {
      "cell_type": "code",
      "source": [
        "from langchain.chains import RetrievalQA\n",
        "\n",
        "map = RetrievalQA.from_llm(\n",
        "    llm=llm,\n",
        "    retriever=retriever,\n",
        ")"
      ],
      "metadata": {
        "id": "Ckvpe6w4zSuZ"
      },
      "execution_count": 45,
      "outputs": []
    },
    {
      "cell_type": "code",
      "source": [
        "ans1 = map.invoke(questions[0])\n",
        "ans1"
      ],
      "metadata": {
        "id": "YrpfUbZk2kB5",
        "outputId": "9cd0af12-dac6-4e52-9071-653472b18088",
        "colab": {
          "base_uri": "https://localhost:8080/"
        }
      },
      "execution_count": 47,
      "outputs": [
        {
          "output_type": "execute_result",
          "data": {
            "text/plain": [
              "{'query': 'What are the top exporting countries of spices?',\n",
              " 'result': 'The top spice-producing countries based on the information provided are:\\n\\n1. India\\n2. Bangladesh\\n3. Turkey\\n4. China\\n5. Pakistan\\n6. Iran\\n7. Nepal\\n8. Colombia\\n9. Ethiopia\\n10. Sri Lanka'}"
            ]
          },
          "metadata": {},
          "execution_count": 47
        }
      ]
    },
    {
      "cell_type": "code",
      "source": [
        "ans2 = map.invoke(questions[1])\n",
        "ans2"
      ],
      "metadata": {
        "id": "AdygJ-_r291g",
        "outputId": "da2d46b8-4ad4-4cbe-f3eb-8cb8b2abccc8",
        "colab": {
          "base_uri": "https://localhost:8080/"
        }
      },
      "execution_count": 48,
      "outputs": [
        {
          "output_type": "execute_result",
          "data": {
            "text/plain": [
              "{'query': 'Which countries have the highest spice production?',\n",
              " 'result': 'The countries with the highest spice production based on the provided data are:\\n\\n1. India\\n2. Bangladesh\\n3. Turkey'}"
            ]
          },
          "metadata": {},
          "execution_count": 48
        }
      ]
    },
    {
      "cell_type": "code",
      "source": [
        "ans3 = map.invoke(questions[2])\n",
        "ans3"
      ],
      "metadata": {
        "id": "vZtPYM-V3wNG",
        "outputId": "430a8e34-f62d-4a10-9d0d-f6f10af17887",
        "colab": {
          "base_uri": "https://localhost:8080/"
        }
      },
      "execution_count": 49,
      "outputs": [
        {
          "output_type": "execute_result",
          "data": {
            "text/plain": [
              "{'query': 'How do different countries contribute to the global spice market?',\n",
              " 'result': 'India is a major contributor to the global spice market, accounting for 75% of global spice production. Other significant spice-producing countries include Bangladesh, Turkey, China, Pakistan, Iran, Nepal, Colombia, Ethiopia, and Sri Lanka. These countries also play a role in shaping the global spice market, with each contributing different types of spices and herbs to the industry.'}"
            ]
          },
          "metadata": {},
          "execution_count": 49
        }
      ]
    },
    {
      "cell_type": "code",
      "source": [
        "from langchain.document_loaders import PyPDFLoader\n",
        "from langchain.text_splitter import RecursiveCharacterTextSplitter\n",
        "text_splitter = RecursiveCharacterTextSplitter(\n",
        "    chunk_size=500,\n",
        "    chunk_overlap=100\n",
        ")\n",
        "\n",
        "loader = PyPDFLoader(\"/content/Spring.in.Action.6th.Edition.Craig.Walls.Manning.9781617297571.EBooksWorld.ir.pdf\")\n",
        "docs = loader.load_and_split(text_splitter)\n",
        "\n",
        "vector_store.add_documents(docs)"
      ],
      "metadata": {
        "id": "cKPdqVtfC92Z"
      },
      "execution_count": null,
      "outputs": []
    },
    {
      "cell_type": "code",
      "source": [
        "from threading import Thread\n",
        "from langchain_google_genai import ChatGoogleGenerativeAI\n",
        "\n",
        "def answer_question(input):\n",
        "  questions_prompt = f\"\"\"\n",
        "  You're a good assistant that support me ask questions with different perspective to answer my question better.\n",
        "  For example:\n",
        "\n",
        "  Question: How can I open a company?\n",
        "  Answer: Which laws you need to know?++What skills you need to prepare?++Which procedure you need to make?\n",
        "\n",
        "  Question: How can I make udon?\n",
        "  Answer: What are ingredients to make udon?++Where to find ingredients to make udon?++What recipe to make udon?\n",
        "  =========\n",
        "  Question: {input}\n",
        "  Answer:\n",
        "  \"\"\"\n",
        "\n",
        "  gpt = RetrievalQA.from_llm(\n",
        "    llm=ChatOpenAI(),\n",
        "    retriever=retriever\n",
        "  )\n",
        "  gemini = RetrievalQA.from_llm(\n",
        "    llm=ChatGoogleGenerativeAI(model=\"gemini-pro\", convert_system_message_to_human=True),\n",
        "    retriever=retriever\n",
        "  )\n",
        "\n",
        "  llm = ChatGoogleGenerativeAI(model=\"gemini-pro\")\n",
        "\n",
        "  llms = [None, gpt, gemini]\n",
        "  index = -1\n",
        "\n",
        "  questions = llm.invoke(questions_prompt).content\n",
        "  questions = list(filter(lambda q: len(q) != 0, questions.split(\"++\")))\n",
        "  questions.append(input)\n",
        "  print(questions)\n",
        "\n",
        "  ans = []\n",
        "\n",
        "  for question in questions:\n",
        "    t = Thread(target=lambda q: ans.append(llms[index].invoke(q)['result']), args=[question])\n",
        "    t.start()\n",
        "    index*=-1\n",
        "\n",
        "  while True:\n",
        "    if len(ans) == len(questions):\n",
        "      return '\\n-'.join(ans)\n"
      ],
      "metadata": {
        "id": "7M8rwxaU4ibR"
      },
      "execution_count": 143,
      "outputs": []
    },
    {
      "cell_type": "code",
      "source": [
        "input = \"How to build Spring app\"\n",
        "\n",
        "context = answer_question(input)\n",
        "\n",
        "final = f\"\"\"\n",
        "Answer question based on following context:\n",
        "- {context}\n",
        "\n",
        "Question: {input}\n",
        "Answer:\n",
        "\"\"\"\n",
        "\n",
        "final_ans = llm.invoke(final)"
      ],
      "metadata": {
        "id": "nFlnD2iL33e8",
        "outputId": "4e383f2b-88ed-4608-b90a-ef24d97dcda3",
        "colab": {
          "base_uri": "https://localhost:8080/"
        }
      },
      "execution_count": 144,
      "outputs": [
        {
          "output_type": "stream",
          "name": "stdout",
          "text": [
            "['What tools are needed to build a Spring app?', 'What skillset is needed to build a Spring app?', 'What are the steps to build a Spring app?', 'How to build Spring app']\n"
          ]
        }
      ]
    },
    {
      "cell_type": "code",
      "source": [
        "final_ans.content"
      ],
      "metadata": {
        "id": "Se_SWIoi8zsf",
        "outputId": "da9834d4-84a6-42a0-aaf8-2ad6023e41db",
        "colab": {
          "base_uri": "https://localhost:8080/",
          "height": 87
        }
      },
      "execution_count": 145,
      "outputs": [
        {
          "output_type": "execute_result",
          "data": {
            "text/plain": [
              "'To build a Spring app, you can initialize a Spring application using Spring Initializr or use an IDE like NetBeans or Spring Tool Suite. Then, add dependencies, configure settings, and write your application logic using Spring, Spring Boot, and related libraries and frameworks. Knowledge of Java programming, dependency injection, web development, database integration, and Spring Boot would be beneficial for building a Spring application. Familiarity with web technologies like HTML, CSS, and JavaScript might also be needed depending on the type of application you are creating.'"
            ],
            "application/vnd.google.colaboratory.intrinsic+json": {
              "type": "string"
            }
          },
          "metadata": {},
          "execution_count": 145
        }
      ]
    }
  ]
}