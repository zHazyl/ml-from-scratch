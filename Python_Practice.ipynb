{
 "cells": [
  {
   "cell_type": "markdown",
   "id": "60847c1b-9a01-4cb8-a261-720614301b82",
   "metadata": {
    "tags": []
   },
   "source": [
    "# 1. Basic"
   ]
  },
  {
   "cell_type": "code",
   "execution_count": 3,
   "id": "dc75e553-092e-4b71-9cc0-b5a97d0b3517",
   "metadata": {},
   "outputs": [],
   "source": [
    "# Run this cell\n",
    "import math"
   ]
  },
  {
   "cell_type": "markdown",
   "id": "2cadef15-36d9-4ef6-a693-0f775ce4a67c",
   "metadata": {},
   "source": [
    "## 1.1 Number and Operator"
   ]
  },
  {
   "cell_type": "markdown",
   "id": "da5d73cf-2234-42b5-abc5-20f882150603",
   "metadata": {},
   "source": [
    "Use below cell to calculate these expressions:\n",
    "\n",
    "$$ a = 1 + \\sqrt{2}$$\n",
    "\n",
    "$$ b = \\sin(0.7) + \\cos(0.2)$$\n",
    "\n",
    "$$ c = \\frac{1}{5} + 3i$$\n",
    "\n",
    "Hint: you can use `math.sqrt()` method to calculate the square root of a number, and `complex()` method to create a complex number"
   ]
  },
  {
   "cell_type": "code",
   "execution_count": null,
   "id": "310afe9b-9f4d-43e3-a2dd-a0c0d9ea23c3",
   "metadata": {},
   "outputs": [],
   "source": [
    "a = ...\n",
    "b = ...\n",
    "c = ...\n",
    "print(a, b, c)"
   ]
  },
  {
   "cell_type": "markdown",
   "id": "844ee194-25f9-44ba-89cb-3b05f69302f4",
   "metadata": {},
   "source": [
    "## 1.2. String"
   ]
  },
  {
   "cell_type": "markdown",
   "id": "86d416ed-099a-4a40-b10a-4a4c4dc26016",
   "metadata": {},
   "source": [
    "Given two strings:\n",
    "\n",
    "`str1 = \"Hello World, \"`\n",
    "\n",
    "`str2 = \"Python!\"`\n",
    "\n",
    "Replace \"...\" in below cells to do the following requirements."
   ]
  },
  {
   "cell_type": "code",
   "execution_count": 5,
   "id": "4ff5beee-1e67-4453-983b-c9fa55204d62",
   "metadata": {},
   "outputs": [],
   "source": [
    "# Run this cell without modifying anything\n",
    "str1 = \"Hello World, \"\n",
    "str2 = \"Python!\""
   ]
  },
  {
   "cell_type": "markdown",
   "id": "b7f61216-4f33-4374-a0a6-20c65c4877c8",
   "metadata": {},
   "source": [
    "**Use `str1` and `str2` to make a string: \"Hello World, my name is Python!\"**"
   ]
  },
  {
   "cell_type": "code",
   "execution_count": null,
   "id": "b1cc5108-3e90-49f9-b91a-cb26e6651fe6",
   "metadata": {},
   "outputs": [],
   "source": [
    "# TO DO\n",
    "str3 = ... + ... + ...\n",
    "str3"
   ]
  },
  {
   "cell_type": "markdown",
   "id": "08e21d84-5476-4126-8bea-f5fa5a9441d4",
   "metadata": {},
   "source": [
    "**Use slicing trick to get string \"Hello\" from `str1`**"
   ]
  },
  {
   "cell_type": "code",
   "execution_count": null,
   "id": "e31864de-5e8c-4db9-a866-52c7aeb066e1",
   "metadata": {},
   "outputs": [],
   "source": [
    "# TO DO\n",
    "str4 = str1[...]\n",
    "str4"
   ]
  },
  {
   "cell_type": "markdown",
   "id": "523d3373-a780-4ec4-b6df-f6558fb257e4",
   "metadata": {},
   "source": [
    "**Change the word \"Python\" in `str3` to your name using `replace()` method**"
   ]
  },
  {
   "cell_type": "code",
   "execution_count": null,
   "id": "95e06d0d-d222-491e-9364-6031d286ed8b",
   "metadata": {},
   "outputs": [],
   "source": [
    "# TO DO\n",
    "str4 = str3.replace(...)\n",
    "str4"
   ]
  },
  {
   "cell_type": "markdown",
   "id": "13395f9e-ba76-4d44-b2d1-1653f397b426",
   "metadata": {},
   "source": [
    "## 1.3. Array"
   ]
  },
  {
   "cell_type": "markdown",
   "id": "08e5e5c6-5476-415b-bb1a-abc37ebacce2",
   "metadata": {},
   "source": [
    "Create a **list** `fruits` with 4 elements: `\"apple\"`, `\"banana\"`, `\"coconut\"`, `\"mango\"` "
   ]
  },
  {
   "cell_type": "code",
   "execution_count": null,
   "id": "2878e184-a698-4a34-addf-6a77128990c0",
   "metadata": {},
   "outputs": [],
   "source": [
    "fruits = ...\n",
    "fruits"
   ]
  },
  {
   "cell_type": "markdown",
   "id": "cfd6f671-8a32-4691-991c-c103f2b46696",
   "metadata": {},
   "source": [
    "Check length of created list to make sure it has exactly 4 elements using `len()` method"
   ]
  },
  {
   "cell_type": "code",
   "execution_count": null,
   "id": "baae2384-8df1-4047-ba85-2c3c94ea9e2b",
   "metadata": {},
   "outputs": [],
   "source": [
    "..."
   ]
  },
  {
   "cell_type": "markdown",
   "id": "fab025c9-e27c-4789-a9ab-990d1d1dca51",
   "metadata": {},
   "source": [
    "Add 1 more fruit to list: `\"papaya\"` using `append()` method"
   ]
  },
  {
   "cell_type": "code",
   "execution_count": null,
   "id": "b3e1f890-3203-4797-bf8d-62420221d89a",
   "metadata": {},
   "outputs": [],
   "source": [
    "...\n",
    "fruits"
   ]
  },
  {
   "cell_type": "markdown",
   "id": "951b0977-b768-49da-98c8-d845250942fd",
   "metadata": {},
   "source": [
    "Remove element `\"coconut\"` using `remove()` method"
   ]
  },
  {
   "cell_type": "markdown",
   "id": "4b18400f-5cd8-46ac-b8cd-e0dcaf80c87f",
   "metadata": {},
   "source": [
    "Change the second element to `\"lemon\"`"
   ]
  },
  {
   "cell_type": "code",
   "execution_count": null,
   "id": "d1830bc2-329b-4830-9ba5-505297f996ef",
   "metadata": {},
   "outputs": [],
   "source": [
    "fruits[...] = ...\n",
    "fruits"
   ]
  },
  {
   "cell_type": "markdown",
   "id": "86233bd1-ccaa-4ba7-a340-3617dbeaa7f6",
   "metadata": {},
   "source": [
    "So, you see that **list** can change the values of element itself. But **tuple** cannot. Try it..."
   ]
  },
  {
   "cell_type": "code",
   "execution_count": null,
   "id": "3355d362-f885-4a3f-bb9a-023d87f0cfb7",
   "metadata": {},
   "outputs": [],
   "source": [
    "# Run this cell without modifying anything\n",
    "my_tuple = (\"1\", \"2\", \"4\")\n",
    "my_tuple[0] = 3"
   ]
  },
  {
   "cell_type": "markdown",
   "id": "41f2aeba-4a97-43a7-abaa-d2684397acf5",
   "metadata": {},
   "source": [
    "The cell above will raise an error because a tuple is an immutable type, signifying that the value of a tuple cannot be altered once it is declared."
   ]
  },
  {
   "cell_type": "markdown",
   "id": "0fa50824-1cc7-447f-8cf4-f0e075fee276",
   "metadata": {},
   "source": [
    "## 1.4. Dictionary"
   ]
  },
  {
   "cell_type": "markdown",
   "id": "d7b599ee-370b-4d44-a1ac-b89d8fef9ce2",
   "metadata": {},
   "source": [
    "- Create a dictionary contain the information of a person include:\n",
    "```\n",
    "Name: Bobby\n",
    "Age: 25\n",
    "Job: Teacher\n",
    "Married: Yes\n",
    "```"
   ]
  },
  {
   "cell_type": "code",
   "execution_count": null,
   "id": "32262616-a528-440f-9fef-fc016321c919",
   "metadata": {},
   "outputs": [],
   "source": [
    "person = {\n",
    "    'Name': 'Bobby',\n",
    "    ...\n",
    "}\n",
    "person"
   ]
  },
  {
   "cell_type": "markdown",
   "id": "8aeea2e8-4ab6-4cf9-99c5-a255e3433d0e",
   "metadata": {},
   "source": [
    "- Print out list of dictionary's keys\n",
    "- Print out list of dictionary's values"
   ]
  },
  {
   "cell_type": "code",
   "execution_count": null,
   "id": "fb55d7e9-580c-40dc-bf02-149e15ab82a9",
   "metadata": {},
   "outputs": [],
   "source": [
    "# Keys\n",
    "print('Keys:', person.keys())\n",
    "\n",
    "# Values\n",
    "print('Values:', ...)"
   ]
  },
  {
   "cell_type": "markdown",
   "id": "04eb3bbe-34b7-4f91-8c80-d3ee55978ff8",
   "metadata": {},
   "source": [
    "- Change the job of Bobby to **Developer**"
   ]
  },
  {
   "cell_type": "code",
   "execution_count": null,
   "id": "35a3c67d-39f3-4002-9a06-3283e9568972",
   "metadata": {},
   "outputs": [],
   "source": [
    "...\n",
    "person"
   ]
  },
  {
   "cell_type": "markdown",
   "id": "e6ca1098-e182-4b70-bff3-b76875b123a8",
   "metadata": {},
   "source": [
    "- Now, try to access an invalid key..."
   ]
  },
  {
   "cell_type": "code",
   "execution_count": null,
   "id": "cf33494a-7c0a-4fdb-9e05-f777b12ce0d4",
   "metadata": {},
   "outputs": [],
   "source": [
    "print(person['Hair color'])"
   ]
  },
  {
   "cell_type": "markdown",
   "id": "b17c5d23-defa-4634-98c9-e39ef6639993",
   "metadata": {},
   "source": [
    "Because the 'Hair color' is not declared in the dictionary so it will raise an error.\n",
    "\n",
    "To deal with this issue, use `get(key, default_value)` method to get the value of a key. If the key is not declared, it will return a `default_value`.\n",
    "\n",
    "Try again, get Bobby's hair color and return 'Unknown' for `default_value`."
   ]
  },
  {
   "cell_type": "code",
   "execution_count": null,
   "id": "fdc40297-bb01-423c-a76c-1b31b4bd74ae",
   "metadata": {},
   "outputs": [],
   "source": [
    "person.get(..., ...)"
   ]
  },
  {
   "cell_type": "markdown",
   "id": "925353bd-43fb-4950-94e9-e0f8fb7c47be",
   "metadata": {},
   "source": [
    "## 1.5. Loop"
   ]
  },
  {
   "cell_type": "markdown",
   "id": "5e9849ce-8b72-4f0d-9f09-f6feed664165",
   "metadata": {},
   "source": [
    "Use a `for` loop to print out 9 multiplication tables (from 1 to 9), with each table separated by an empty line.\n",
    "\n",
    "Example format for a table with number 9:\n",
    "```\n",
    "9 x 1 = 9\n",
    "9 x 2 = 18\n",
    "9 x 3 = 27\n",
    "9 x 4 = 36\n",
    "9 x 5 = 45\n",
    "9 x 6 = 54\n",
    "9 x 7 = 63\n",
    "9 x 8 = 72\n",
    "9 x 9 = 81\n",
    "```\n",
    "**Hint: use two nested loops**"
   ]
  },
  {
   "cell_type": "code",
   "execution_count": null,
   "id": "73e90f32-860f-4a50-ae0c-aaa26174b428",
   "metadata": {},
   "outputs": [],
   "source": [
    "..."
   ]
  },
  {
   "cell_type": "markdown",
   "id": "f002ad80-4221-4bdb-b9d4-1acb4a73275c",
   "metadata": {},
   "source": [
    "# 2. Advanced"
   ]
  },
  {
   "cell_type": "markdown",
   "id": "511957a1-05bd-4524-b94f-94e7bbf5d3e2",
   "metadata": {},
   "source": [
    "***Given a string s consisting of words and spaces, return the the last word and its length in the string.***\n",
    "\n",
    "***A word is a maximal substring consisting of non-space characters only.***\n",
    "\n",
    "***Output format: a string like `\"[last word]:[length of last word]\"`***\n",
    "\n",
    "**Example 1:**\n",
    "\n",
    "Input: s = \"Hello World\"\n",
    "\n",
    "Output: World:5\n",
    "\n",
    "Explanation: The last word is \"World\" with length 5.\n",
    "\n",
    "**Example 2:**\n",
    "\n",
    "Input: s = \"   fly me   to   the moon  \"\n",
    "\n",
    "Output: moon:4\n",
    "\n",
    "Explanation: The last word is \"moon\" with length 4.\n",
    "\n",
    "**Example 3:**\n",
    "\n",
    "Input: s = \"luffy is still joyboy\"\n",
    "\n",
    "Output: joyboy:6\n",
    "\n",
    "Explanation: The last word is \"joyboy\" with length 6."
   ]
  },
  {
   "cell_type": "code",
   "execution_count": 21,
   "id": "2b756b3e-4279-4afc-af0f-524905933568",
   "metadata": {},
   "outputs": [],
   "source": [
    "def find_maximal_substring(s):\n",
    "    ..."
   ]
  },
  {
   "cell_type": "markdown",
   "id": "98742e56-6913-4334-8f5b-056ccff60d82",
   "metadata": {},
   "source": [
    "Now, test your function..."
   ]
  },
  {
   "cell_type": "code",
   "execution_count": null,
   "id": "ceee73e5-37db-4584-856e-7bd9695f4181",
   "metadata": {},
   "outputs": [],
   "source": [
    "# Run this cell without modifying anything\n",
    "str1 = \"  Python  reads and  writes   very similarly to standard     English  \"\n",
    "print(find_maximal_substring(str1))"
   ]
  }
 ],
 "metadata": {
  "kernelspec": {
   "display_name": "venv",
   "language": "python",
   "name": "venv"
  },
  "language_info": {
   "codemirror_mode": {
    "name": "ipython",
    "version": 3
   },
   "file_extension": ".py",
   "mimetype": "text/x-python",
   "name": "python",
   "nbconvert_exporter": "python",
   "pygments_lexer": "ipython3",
   "version": "3.7.11"
  }
 },
 "nbformat": 4,
 "nbformat_minor": 5
}
